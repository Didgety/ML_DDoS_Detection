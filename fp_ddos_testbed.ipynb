{
 "cells": [
  {
   "cell_type": "code",
   "execution_count": 6,
   "metadata": {},
   "outputs": [],
   "source": [
    "# imports\n",
    "import os\n",
    "import pandas as pd"
   ]
  },
  {
   "cell_type": "code",
   "execution_count": 4,
   "metadata": {},
   "outputs": [
    {
     "name": "stdout",
     "output_type": "stream",
     "text": [
      "kaggle_dataset/DNS-testing.parquet\n",
      "kaggle_dataset/LDAP-testing.parquet\n",
      "kaggle_dataset/LDAP-training.parquet\n",
      "kaggle_dataset/MSSQL-testing.parquet\n",
      "kaggle_dataset/MSSQL-training.parquet\n",
      "kaggle_dataset/NetBIOS-testing.parquet\n",
      "kaggle_dataset/NetBIOS-training.parquet\n",
      "kaggle_dataset/NTP-testing.parquet\n",
      "kaggle_dataset/Portmap-training.parquet\n",
      "kaggle_dataset/SNMP-testing.parquet\n",
      "kaggle_dataset/Syn-testing.parquet\n",
      "kaggle_dataset/Syn-training.parquet\n",
      "kaggle_dataset/TFTP-testing.parquet\n",
      "kaggle_dataset/UDP-testing.parquet\n",
      "kaggle_dataset/UDP-training.parquet\n",
      "kaggle_dataset/UDPLag-testing.parquet\n",
      "kaggle_dataset/UDPLag-training.parquet\n"
     ]
    }
   ],
   "source": [
    "# data\n",
    "\n",
    "ddos_train = []\n",
    "ddos_test = []\n",
    "\n",
    "for dirname, _, filenames in os.walk('kaggle_dataset/'):\n",
    "    for filename in filenames:\n",
    "        if filename.endswith('-training.parquet'):\n",
    "            data_fp = os.path.join(dirname, filename)\n",
    "            ddos_train.append(data_fp)\n",
    "            print(data_fp)\n",
    "        elif filename.endswith('-testing.parquet'):\n",
    "            data_fp = os.path.join(dirname, filename)\n",
    "            ddos_test.append(data_fp)\n",
    "            print(data_fp)"
   ]
  },
  {
   "cell_type": "code",
   "execution_count": 7,
   "metadata": {},
   "outputs": [
    {
     "ename": "NameError",
     "evalue": "name 'dfps_tr' is not defined",
     "output_type": "error",
     "traceback": [
      "\u001b[1;31m---------------------------------------------------------------------------\u001b[0m",
      "\u001b[1;31mNameError\u001b[0m                                 Traceback (most recent call last)",
      "Cell \u001b[1;32mIn[7], line 3\u001b[0m\n\u001b[0;32m      1\u001b[0m \u001b[38;5;66;03m# dataframes\u001b[39;00m\n\u001b[1;32m----> 3\u001b[0m train_df \u001b[38;5;241m=\u001b[39m pd\u001b[38;5;241m.\u001b[39mconcat([pd\u001b[38;5;241m.\u001b[39mread_parquet(dfp) \u001b[38;5;28;01mfor\u001b[39;00m dfp \u001b[38;5;129;01min\u001b[39;00m \u001b[43mdfps_tr\u001b[49m], ignore_index\u001b[38;5;241m=\u001b[39m\u001b[38;5;28;01mTrue\u001b[39;00m)\n\u001b[0;32m      4\u001b[0m test_df \u001b[38;5;241m=\u001b[39m pd\u001b[38;5;241m.\u001b[39mconcat([pd\u001b[38;5;241m.\u001b[39mread_parquet(dfp) \u001b[38;5;28;01mfor\u001b[39;00m dfp \u001b[38;5;129;01min\u001b[39;00m dfps_ts], ignore_index\u001b[38;5;241m=\u001b[39m\u001b[38;5;28;01mTrue\u001b[39;00m)\n\u001b[0;32m      6\u001b[0m train_df\u001b[38;5;241m.\u001b[39mshape, test_df\u001b[38;5;241m.\u001b[39mshape\n",
      "\u001b[1;31mNameError\u001b[0m: name 'dfps_tr' is not defined"
     ]
    }
   ],
   "source": [
    "# dataframes\n",
    "\n",
    "train_df = pd.concat([pd.read_parquet(dfp) for dfp in ddos_train], ignore_index=True)\n",
    "test_df = pd.concat([pd.read_parquet(dfp) for dfp in ddos_test], ignore_index=True)\n",
    "\n",
    "train_df.shape, test_df.shape"
   ]
  }
 ],
 "metadata": {
  "kernelspec": {
   "display_name": ".venv",
   "language": "python",
   "name": "python3"
  },
  "language_info": {
   "codemirror_mode": {
    "name": "ipython",
    "version": 3
   },
   "file_extension": ".py",
   "mimetype": "text/x-python",
   "name": "python",
   "nbconvert_exporter": "python",
   "pygments_lexer": "ipython3",
   "version": "3.12.0"
  }
 },
 "nbformat": 4,
 "nbformat_minor": 2
}
